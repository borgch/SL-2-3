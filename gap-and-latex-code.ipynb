{
 "cells": [
  {
   "cell_type": "markdown",
   "id": "5894a08b-73a6-4058-9072-0be6694801b0",
   "metadata": {
    "editable": true,
    "slideshow": {
     "slide_type": ""
    },
    "tags": []
   },
   "source": [
    "Полезные в дальнейшем сокращения для определяющих соотношений:"
   ]
  },
  {
   "cell_type": "code",
   "execution_count": 14,
   "id": "ba1f2945-bb93-49b2-8afe-cfa6c52ac317",
   "metadata": {
    "editable": true,
    "scrolled": true,
    "slideshow": {
     "slide_type": ""
    },
    "tags": []
   },
   "outputs": [],
   "source": [
    "sim := function(x, y) # sim(x, y) = [1, 1, 1] <=> x ~ y, т.е. <x, y> = SL(2, 3) \n",
    "    return [x^3, y^3, x*y*x*y^-1*x^-1*y^-1];\n",
    "end;;\n",
    "\n",
    "SL23_rels := sim;;\n",
    "\n",
    "square := function(x, y) # square(x, y) = [1, 1, 1, 1] <=> x □ y, т.е. <x, y> = A5\n",
    "    return [x^3, y^3, (x*y)^5, (x^y*x)^2];\n",
    "end;;\n",
    "\n",
    "A5_rels := square;;\n",
    "\n",
    "triangle := function(x, y) # triangle(x, y) = [1, 1, 1, 1] <=> x △ y, т.е. <x, y> = SL(2, 5)\n",
    "    # работает, только когда имена порождающих переменных \"x\" и \"y\", естественно, не всегда это удобно. Возвращает список [ x^3, y^3, (y*x)^2*y*(x^-1*y^-1)^2*x^-1, (y^-1*x)^2*y^-1*(x^-1*y)^2*x^-1 ] :\n",
    "    # return ParseRelators([x, y], \"x^3 = y^3 = 1, xyxyx = yxyxy, xy^-1xy^-1x = y^-1xy^-1xy^-1\");\n",
    "    return [ x^3, y^3, (y*x)^2*y*(x^-1*y^-1)^2*x^-1, (y^-1*x)^2*y^-1*(x^-1*y)^2*x^-1 ]; # работает независимо от меток переменных x и y\n",
    "end;;\n",
    "\n",
    "SL25_rels := triangle;;\n",
    "\n",
    "B23_rels := function(x, y)\n",
    "    return [x^3, y^3, (x*y)^3, (x*y^-1)^3];; \n",
    "end;;\n",
    "\n",
    "A4_rels := function(x, y)\n",
    "    return [x^3, y^3, (x*y)^2];; \n",
    "end;;\n",
    "\n",
    "comm := function(x, y)\n",
    "    return [Comm(x, y)];\n",
    "end;;\n",
    "\n",
    "F2 := FreeGroup(\"x\", \"y\");;\n",
    "F3 := FreeGroup(\"x\", \"y\", \"z\");;\n",
    "\n",
    "x := F2.1;; y := F2.2;;\n",
    "M4 := [F2 / SL23_rels(x, y), F2 / A5_rels(x, y), F2 / SL25_rels(x, y), F2 / B23_rels(x, y), F2 / A4_rels(x, y), F2 / comm(x, y)];;"
   ]
  },
  {
   "cell_type": "markdown",
   "id": "e4427c98-383b-4f05-8bf2-aff6130268cd",
   "metadata": {},
   "source": [
    "Сокращения для установки в переменные x, y, z и a, b, c порождающих групп:"
   ]
  },
  {
   "cell_type": "code",
   "execution_count": null,
   "id": "76d72f52-f288-4700-b5ad-f3736a9627a7",
   "metadata": {
    "editable": true,
    "slideshow": {
     "slide_type": ""
    },
    "tags": []
   },
   "outputs": [],
   "source": [
    "setxyz := function(G)\n",
    "    if IsReadOnlyGlobal(\"x\") then MakeReadWriteGlobal(\"x\"); fi;\n",
    "    if IsReadOnlyGlobal(\"y\") then MakeReadWriteGlobal(\"y\"); fi;\n",
    "    if IsReadOnlyGlobal(\"z\") then MakeReadWriteGlobal(\"z\"); fi;\n",
    "    if IsBound(x) then UnbindGlobal(\"x\");; fi;\n",
    "    if IsBound(y) then UnbindGlobal(\"y\");; fi;\n",
    "    if IsBound(z) then  UnbindGlobal(\"z\");; fi;\n",
    "    BindGlobal(\"x\", G.1);; BindGlobal(\"y\", G.2);; BindGlobal(\"z\", G.3);;\n",
    "    MakeReadWriteGlobal(\"x\"); MakeReadWriteGlobal(\"y\"); MakeReadWriteGlobal(\"z\");\n",
    "end;;\n",
    "\n",
    "setabc := function(G)\n",
    "    if IsReadOnlyGlobal(\"a\") then MakeReadWriteGlobal(\"a\"); fi;\n",
    "    if IsReadOnlyGlobal(\"b\") then MakeReadWriteGlobal(\"b\"); fi;\n",
    "    if IsReadOnlyGlobal(\"c\") then MakeReadWriteGlobal(\"c\"); fi;\n",
    "    if IsBound(a) then UnbindGlobal(\"a\");; fi;\n",
    "    if IsBound(b) then UnbindGlobal(\"b\");; fi;\n",
    "    if IsBound(c) then UnbindGlobal(\"c\");; fi;\n",
    "    BindGlobal(\"a\", G.1);; BindGlobal(\"b\", G.2);; BindGlobal(\"c\", G.3);;\n",
    "    MakeReadWriteGlobal(\"a\"); MakeReadWriteGlobal(\"b\"); MakeReadWriteGlobal(\"c\");\n",
    "end;;\n",
    "\n",
    "setxy := function(G)\n",
    "    if IsReadOnlyGlobal(\"x\") then MakeReadWriteGlobal(\"x\"); fi;\n",
    "    if IsReadOnlyGlobal(\"y\") then MakeReadWriteGlobal(\"y\"); fi;\n",
    "    if IsBound(x) then UnbindGlobal(\"x\");; fi;\n",
    "    if IsBound(y) then UnbindGlobal(\"y\");; fi;\n",
    "    BindGlobal(\"x\", G.1);; BindGlobal(\"y\", G.2);;\n",
    "    MakeReadWriteGlobal(\"x\"); MakeReadWriteGlobal(\"y\");\n",
    "end;;\n",
    "\n",
    "setab := function(G)\n",
    "    if IsReadOnlyGlobal(\"a\") then MakeReadWriteGlobal(\"a\"); fi;\n",
    "    if IsReadOnlyGlobal(\"b\") then MakeReadWriteGlobal(\"b\"); fi;\n",
    "    if IsBound(a) then UnbindGlobal(\"a\");; fi;\n",
    "    if IsBound(b) then UnbindGlobal(\"b\");; fi;\n",
    "    BindGlobal(\"a\", G.1);; BindGlobal(\"b\", G.2);;\n",
    "    MakeReadWriteGlobal(\"a\"); MakeReadWriteGlobal(\"b\");\n",
    "end;;"
   ]
  },
  {
   "cell_type": "code",
   "execution_count": 23,
   "id": "6b88b327-4b51-4825-a8f7-ae94d88339c0",
   "metadata": {},
   "outputs": [
    {
     "name": "stdout",
     "output_type": "stream",
     "text": [
      "SL(2,3)\n",
      "Порядок xy: 6, порядок xy^-1: 4\n",
      "\n"
     ]
    }
   ],
   "source": [
    "# пример использования\n",
    "\n",
    "setxy(F2);\n",
    "\n",
    "G := F2 / sim(x, y);;\n",
    "Print(StructureDescription(G), \"\\n\");\n",
    "setxy(G);\n",
    "Print(\"Порядок xy: \", Order(x*y), \", порядок xy^-1: \", Order(x*y^-1), \"\\n\\n\");"
   ]
  },
  {
   "cell_type": "code",
   "execution_count": null,
   "id": "e6b89ba7-0c7d-475a-a9e3-25314108958e",
   "metadata": {},
   "outputs": [
    {
     "name": "stdout",
     "output_type": "stream",
     "text": [
      "A4\n",
      "Порядок xy: 2\n"
     ]
    }
   ],
   "source": [
    "setxy(F2);\n",
    "G := F2 / A4_rels(x, y);;\n",
    "Print(StructureDescription(G), \"\\n\");\n",
    "setxy(G);\n",
    "Print(\"Порядок xy: \", Order(x*y), \"\\n\");"
   ]
  },
  {
   "cell_type": "code",
   "execution_count": 33,
   "id": "1452872c-72e3-4a34-adcf-a14499a10201",
   "metadata": {
    "scrolled": true
   },
   "outputs": [
    {
     "name": "stdout",
     "output_type": "stream",
     "text": [
      "SL(2,5)\n",
      "Порядок xy: 10\n",
      "\n"
     ]
    }
   ],
   "source": [
    "setxy(F2);\n",
    "G := F2 / triangle(x, y);;\n",
    "setxy(G);\n",
    "Print(StructureDescription(G), \"\\n\");\n",
    "Print(\"Порядок xy: \", Order(x*y), \"\\n\\n\");"
   ]
  },
  {
   "cell_type": "code",
   "execution_count": null,
   "id": "cfe96a73-77f0-470f-9320-bf1a796224b6",
   "metadata": {},
   "outputs": [
    {
     "name": "stdout",
     "output_type": "stream",
     "text": [
      "A5\n",
      "<x, x^y> = A4\n",
      "<x, x^(y^-1)> = A4\n",
      "Порядок xy: 5\n",
      "Порядок A5: 60\n"
     ]
    }
   ],
   "source": [
    "setxy(F2);\n",
    "G := F2 / square(x, y);;\n",
    "setxy(G);\n",
    "Print(StructureDescription(G), \"\\n\");\n",
    "Print(\"<x, x^y> = \", StructureDescription(Group(x, x^y)), \"\\n\");\n",
    "Print(\"<x, x^(y^-1)> = \", StructureDescription(Group(x, x^(y^-1))), \"\\n\");\n",
    "Print(\"Порядок xy: \", Order(x*y), \"\\n\");\n",
    "Print(\"Порядок A5: \", Order(G), \"\\n\");"
   ]
  },
  {
   "cell_type": "code",
   "execution_count": 47,
   "id": "ebec0ec7-695b-4ed0-ab34-5be92d840652",
   "metadata": {},
   "outputs": [
    {
     "name": "stdout",
     "output_type": "stream",
     "text": [
      "(C3 x C3) : C3\n",
      "Порядок xy: 3\n",
      "Порядок xy^-1: 3\n",
      "\n"
     ]
    }
   ],
   "source": [
    "setxy(F2);\n",
    "G := F2 / B23_rels(x, y);;\n",
    "Print(StructureDescription(G), \"\\n\");\n",
    "setxy(G);\n",
    "Print(\"Порядок xy: \", Order(x*y), \"\\n\");\n",
    "Print(\"Порядок xy^-1: \", Order(x*y^-1), \"\\n\\n\");\n"
   ]
  },
  {
   "cell_type": "markdown",
   "id": "072f2631-d142-4a55-8b74-738968ab5d96",
   "metadata": {},
   "source": [
    "**Лемма 1.**\n",
    "Пусть $K=\\langle a,b \\mid a \\sim b \\rangle$. Тогда $K\\simeq SL_2(3)$. Центр $Z(K)= \\langle (ab^{-1})^2 \\rangle$ имеет порядок 2 и $K/Z(K)\\simeq A_4$. В группе $K$ два класса сопряжённых элементов порядка $3$: $C=\\{a,b,a^b,b^a \\}$ и $C^{-1}$.\n",
    "Если $a$ и $b$ --- элементы порядка 3, порождающие $SL_2(3)$, то либо $a\\sim b$, либо $a\\sim b^{-1}$."
   ]
  },
  {
   "cell_type": "code",
   "execution_count": null,
   "id": "4d997ab5-1e2b-4ed6-a0c0-a3fd7c351e6f",
   "metadata": {},
   "outputs": [
    {
     "name": "stdout",
     "output_type": "stream",
     "text": [
      "Центр Group( [ b*a^2*b^-2*a^-1 ] ), порядок равен 2\n",
      "Фактор-группа по центру: A4\n"
     ]
    }
   ],
   "source": [
    "F := FreeGroup(\"a\", \"b\");;\n",
    "a := F.1;; b := F.2;;\n",
    "\n",
    "K := F / sim(a, b);;\n",
    "a := K.1;; b := K.2;;\n",
    "\n",
    "ZK := Center(K);;\n",
    "\n",
    "Print(\"Центр \", ZK, \", порядок равен \", Order(ZK), \"\\n\");\n",
    "Print(\"Фактор-группа по центру: \", StructureDescription(K / ZK), \"\\n\");"
   ]
  },
  {
   "cell_type": "code",
   "execution_count": 61,
   "id": "63df4198-81c5-4e01-9c37-771f62263a51",
   "metadata": {},
   "outputs": [
    {
     "name": "stdout",
     "output_type": "stream",
     "text": [
      "Классы сопряжённых элементов порядка 3: \n",
      "[ [ b, a, a*b*a^2, a^2*b*a ], [ b^2, a^2, a*b^2*a^2, a^2*b^2*a ] ]\n"
     ]
    }
   ],
   "source": [
    "# Поиск классов сопряжённых элементов порядка 3\n",
    "\n",
    "ccl := ConjugacyClasses(K);;\n",
    "ccl_ord3 := Filtered(ccl, x -> Order(Representative(x)) = 3);;\n",
    "Print(\"Классы сопряжённых элементов порядка 3: \", List(ccl_ord3, AsList), \"\\n\");\n",
    "\n",
    "el_ord3 := [];;\n",
    "for cc in ccl_ord3 do\n",
    "    Append(el_ord3, AsList(cc));;\n",
    "od;"
   ]
  },
  {
   "cell_type": "code",
   "execution_count": null,
   "id": "a142c6fe-9da0-4b57-944b-b868c7633143",
   "metadata": {},
   "outputs": [
    {
     "name": "stdout",
     "output_type": "stream",
     "text": [
      "Для x = b, y = a:\n",
      "x ~ y: true,\tx ~ y^-1: false\n",
      "Для x = b, y = a^2:\n",
      "x ~ y: false,\tx ~ y^-1: true\n",
      "Для x = b, y = a*b*a^2:\n",
      "x ~ y: true,\tx ~ y^-1: false\n",
      "Для x = b, y = a^2*b*a:\n",
      "x ~ y: true,\tx ~ y^-1: false\n",
      "Для x = b, y = a*b^2*a^2:\n",
      "x ~ y: false,\tx ~ y^-1: true\n",
      "Для x = b, y = a^2*b^2*a:\n",
      "x ~ y: false,\tx ~ y^-1: true\n",
      "Для x = b^2, y = a:\n",
      "x ~ y: false,\tx ~ y^-1: true\n",
      "Для x = b^2, y = a^2:\n",
      "x ~ y: true,\tx ~ y^-1: false\n",
      "Для x = b^2, y = a*b*a^2:\n",
      "x ~ y: false,\tx ~ y^-1: true\n",
      "Для x = b^2, y = a^2*b*a:\n",
      "x ~ y: false,\tx ~ y^-1: true\n",
      "Для x = b^2, y = a*b^2*a^2:\n",
      "x ~ y: true,\tx ~ y^-1: false\n",
      "Для x = b^2, y = a^2*b^2*a:\n",
      "x ~ y: true,\tx ~ y^-1: false\n",
      "Для x = a, y = a*b*a^2:\n",
      "x ~ y: true,\tx ~ y^-1: false\n",
      "Для x = a, y = a^2*b*a:\n",
      "x ~ y: true,\tx ~ y^-1: false\n",
      "Для x = a, y = a*b^2*a^2:\n",
      "x ~ y: false,\tx ~ y^-1: true\n",
      "Для x = a, y = a^2*b^2*a:\n",
      "x ~ y: false,\tx ~ y^-1: true\n",
      "Для x = a^2, y = a*b*a^2:\n",
      "x ~ y: false,\tx ~ y^-1: true\n",
      "Для x = a^2, y = a^2*b*a:\n",
      "x ~ y: false,\tx ~ y^-1: true\n",
      "Для x = a^2, y = a*b^2*a^2:\n",
      "x ~ y: true,\tx ~ y^-1: false\n",
      "Для x = a^2, y = a^2*b^2*a:\n",
      "x ~ y: true,\tx ~ y^-1: false\n",
      "Для x = a*b*a^2, y = a^2*b*a:\n",
      "x ~ y: true,\tx ~ y^-1: false\n",
      "Для x = a*b*a^2, y = a^2*b^2*a:\n",
      "x ~ y: false,\tx ~ y^-1: true\n",
      "Для x = a^2*b*a, y = a*b^2*a^2:\n",
      "x ~ y: false,\tx ~ y^-1: true\n",
      "Для x = a*b^2*a^2, y = a^2*b^2*a:\n",
      "x ~ y: true,\tx ~ y^-1: false\n"
     ]
    }
   ],
   "source": [
    "# Переберём все пары элементов порядка 3\n",
    "\n",
    "for pair_el_ord3 in Combinations(el_ord3, 2) do\n",
    "    if Subgroup(K, pair_el_ord3) = K then\n",
    "        x := pair_el_ord3[1];;  y := pair_el_ord3[2];;\n",
    "        Print(\"Для x = \", x, \", y = \", y, \":\\n\");\n",
    "        Print(\"x ~ y: \", ForAll(sim(x, y), x -> Order(x) = 1), \",\\tx ~ y^-1: \", ForAll(sim(x, y^-1), x -> Order(x) = 1), \"\\n\");\n",
    "    fi;\n",
    "od;"
   ]
  },
  {
   "cell_type": "markdown",
   "id": "a2f047e7-aaf3-44e1-82fc-775ecfced94b",
   "metadata": {},
   "source": [
    "**Лемма 2.**\n",
    "\n",
    "Пусть $K=\\langle a,b \\mid a \\triangle b \\rangle$. Тогда $K\\simeq SL_2(5)$.\n",
    "Центр $Z(K)= \\langle (ab)^5 \\rangle$ имеет порядок 2 и $K/Z(K)\\simeq A_5$.\n",
    "В группе $K$ все $20$ элементов порядка $3$ сопряжены.\n",
    "Если $a$ и $b$ --- элементы порядка 3, порождающие $SL_2(5)$, то $a\\triangle b$. Если $a$ и $b$ --- элементы порядка 3, порождающие $A_5$, то $a\\square b$; и наоборот, группа $\\langle a,b \\mid a \\square b \\rangle$ изоморфна $A_5$. \n",
    "\n",
    "**Лемма 3.**\n",
    "\n",
    "Пусть $K=\\langle a,b \\mid a^3,b^3,(ab)^3,(ab^{-1})^3 \\rangle$. \n",
    "Тогда $K\\simeq 3^{1+2}$ --- экстраспециальная группа периода $3$ и порядка $3^3$. Центр $Z(K)= \\langle [a,b] \\rangle$ имеет порядок $3$ и $K/Z(K)$ --- абелева группа. "
   ]
  },
  {
   "cell_type": "markdown",
   "id": "bf28d5a5-50ec-4c67-a9fc-c1ef9e1bdc67",
   "metadata": {},
   "source": [
    "Введем обозначения для некоторых групп, заданных копредставлениями. \n",
    "\n",
    "$U=\\langle a,b,c \\mid a\\sim c \\sim b,\n",
    "a\\square b, a\\square b^c, a\\square c^b\\rangle$;\n",
    "\n",
    "$V=\\langle a,b,c \\mid b\\sim a\\square c, [b,c] \\rangle$."
   ]
  },
  {
   "cell_type": "code",
   "execution_count": 71,
   "id": "5d4029eb-f657-4811-800d-6972eb80f38e",
   "metadata": {},
   "outputs": [],
   "source": [
    "setabc(F3);\n",
    "\n",
    "U := F3 / Concatenation(sim(a, c), sim(c, b), square(a, b), square(a, b^c), square(a, c^b));;\n",
    "V := F3 / Concatenation(sim(b, a), square(a, c), comm(b, c));;\n",
    "\n",
    "setabc(U);\n",
    "H := Group(a, b);;\n",
    "# Print(\"H = \", StructureDescription(H), \"\\n\");\n",
    "# H = A5\n",
    "\n",
    "iso := FactorCosetAction(U, H);;\n",
    "# Print(\"|H| = \", Order(H), \", [U : H] = \", Index(U, H), \"\\n\");\n",
    "# |H| = 60, [U : H] = 55296\n",
    "\n",
    "x := Image(iso, a);;\n",
    "y := Image(iso, b);;\n",
    "z := Image(iso, c);;\n",
    "\n",
    "# StructureDescription(Group(x, y, z)); \n",
    "# Print(\"C2 . ((C2 x C2 x C2 x C2 x C2 x C2) . O(5,3))\", \"\\n\");"
   ]
  },
  {
   "cell_type": "markdown",
   "id": "1a1aafd3-779f-4325-9d3e-69d68a9e9acd",
   "metadata": {},
   "source": [
    "В следующих леммах описаны подгруппы, порождённые тремя элементами из $D$ и доказана их конечность. \n",
    "Отдельно выделим ряд случаев, когда два порождающих коммутируют.\n",
    "\n",
    "**Лемма 4.**\n",
    "\n",
    "Пусть $G$ --- $\\mathfrak{M}_4$-группа, $x,y,z \\in D$, $y\\not \\in \\langle x,z \\rangle$, $G=\\langle x,y,z \\rangle$ и $[x,y]=1$. Тогда $G$ конечна.\n",
    "\n",
    "0) Если $[x,z]=1$, то $G \\simeq 3 \\times \\langle y,z \\rangle$.\n",
    "\n",
    "1) Если $\\langle x,z \\rangle \\simeq A_4$, то $G \\simeq A_6$.\n",
    "\n",
    "2) Если $\\langle x,z \\rangle \\simeq A_5$, то $G$ является фактором одной из групп $U,V,A_6,A_7$.\n",
    "\n",
    "3) Если $\\langle x,z \\rangle \\simeq SL_2(3)$, то $G$ является фактором одной из групп выше, \n",
    "либо изоморфна $Sp_3(3)$, $3 \\times (3^2:SL_2(3))$,\n",
    "либо является расширением конечной 2-группы при помощи $A_6$.\n",
    "\n",
    "4) Если $\\langle x,z \\rangle \\simeq SL_2(5)$, то\n",
    "\n",
    "5) Если $\\langle x,z \\rangle \\simeq 3^{1+2}$, то\n",
    "$G$ является фактором одной из групп выше, либо фактором $3^4:SL_2(5)$, либо 3-группой порядка делящего $3^6$.\n",
    "\n",
    "Все группы из заключения леммы являются $\\mathfrak{M}_4$-группами."
   ]
  },
  {
   "cell_type": "code",
   "execution_count": null,
   "id": "2712719b-54ba-4198-b159-45fdcae75a2f",
   "metadata": {},
   "outputs": [
    {
     "data": {
      "text/plain": [
       "true"
      ]
     },
     "execution_count": 77,
     "metadata": {
      "text/plain": ""
     },
     "output_type": "execute_result"
    },
    {
     "data": {
      "text/plain": [
       "true"
      ]
     },
     "execution_count": 78,
     "metadata": {
      "text/plain": ""
     },
     "output_type": "execute_result"
    },
    {
     "data": {
      "text/plain": [
       "true"
      ]
     },
     "execution_count": 79,
     "metadata": {
      "text/plain": ""
     },
     "output_type": "execute_result"
    },
    {
     "data": {
      "text/plain": [
       "true"
      ]
     },
     "execution_count": 80,
     "metadata": {
      "text/plain": ""
     },
     "output_type": "execute_result"
    },
    {
     "data": {
      "text/plain": [
       "true"
      ]
     },
     "execution_count": 81,
     "metadata": {
      "text/plain": ""
     },
     "output_type": "execute_result"
    }
   ],
   "source": [
    "x := (1, 2, 3);; y := (4, 5, 6);; z := (2, 3, 4);;\n",
    "G := Group(x, y, z);;\n",
    "H := Group(x, z);;\n",
    "\n",
    "H = AlternatingGroup(4);\n",
    "IsSubset(ConjugacyClass(G, x), [y, z]);\n",
    "(y in Group(x, z)) = false;\n",
    "Comm(x, y) = ();\n",
    "G = AlternatingGroup(6);"
   ]
  },
  {
   "cell_type": "code",
   "execution_count": 83,
   "id": "b6f1d9a0-dc92-45a9-87c9-21f9fc418678",
   "metadata": {},
   "outputs": [],
   "source": [
    "setxyz(F3);\n",
    "rels := Concatenation([x^3, y^3, z^3], comm(x, y));;\n",
    "\n",
    "# 0 --- очевидно\n",
    "# 1"
   ]
  },
  {
   "cell_type": "markdown",
   "id": "bca85e20-895f-45b5-b3d5-f0411c0ca264",
   "metadata": {},
   "source": [
    "**Доказательство.**\n",
    "\n",
    "**1.**"
   ]
  },
  {
   "cell_type": "markdown",
   "id": "a8a7a73c-b7db-4652-b067-99f1dc86fad8",
   "metadata": {},
   "source": [
    "Пусть $K=\\{ x,y,z \\mid x^3,y^3,z^3,[x,y],(xz)^2 \\}$ --- группа, заданная соотношениями из утверждения."
   ]
  },
  {
   "cell_type": "markdown",
   "id": "623cc62f-9c40-418f-a74b-1225a0fd371c",
   "metadata": {},
   "source": [
    "Если $\\langle y, z\\rangle\\simeq 3^2$ или $3^{1+2}$, то $|yz| = 3$, а если $\\langle y, z\\rangle\\simeq A_4$, то $|yz| = 2$. Исключим эти случаи."
   ]
  },
  {
   "cell_type": "markdown",
   "id": "c2066ee6-e85e-4adb-9383-01d56ba853d7",
   "metadata": {},
   "source": [
    "Заметим, что $K/\\langle (yz)^3 \\rangle \\simeq A_4 \\times A_4$, а $K/\\langle (yz)^2 \\rangle \\simeq A_4$:"
   ]
  },
  {
   "cell_type": "code",
   "execution_count": null,
   "id": "ebbfb32c-792a-4c76-9361-f50ec4a97d75",
   "metadata": {},
   "outputs": [
    {
     "data": {
      "text/plain": [
       "\"A4 x A4\""
      ]
     },
     "execution_count": 85,
     "metadata": {
      "text/plain": ""
     },
     "output_type": "execute_result"
    },
    {
     "data": {
      "text/plain": [
       "\"A4\""
      ]
     },
     "execution_count": 86,
     "metadata": {
      "text/plain": ""
     },
     "output_type": "execute_result"
    }
   ],
   "source": [
    "rels_1 := Concatenation(rels, A4_rels(x, z));;\n",
    "\n",
    "# исключаем 3^(1+2) и 3^2\n",
    "StructureDescription(F3 / Concatenation(rels_1, [(y*z)^3]));\n",
    "# исключаем А4\n",
    "StructureDescription(F3 / Concatenation(rels_1, [(y*z)^2]));"
   ]
  },
  {
   "cell_type": "markdown",
   "id": "dbcd2e38-983d-449f-865e-58e4651ef48d",
   "metadata": {},
   "source": [
    "поэтому можно считать, что \n",
    "$\\langle y,z \\rangle \\not \\in \\{3^2,3^{1+2},A_4 \\}$."
   ]
  },
  {
   "cell_type": "markdown",
   "id": "08efdc50-b253-4e37-8722-a4832bceefb4",
   "metadata": {},
   "source": [
    "Кроме того, если $\\langle y, z\\rangle \\simeq SL(2,3)$, то с точностью до замены $y$ на $y^{-1}$ выполнено $|yz| = 4$. В этом случае группа $K/\\langle (yz)^4 \\rangle$ содержит фактор  $\\langle yK,zK \\rangle \\simeq A_4 \\times A_6$,"
   ]
  },
  {
   "cell_type": "code",
   "execution_count": 98,
   "id": "18dc5348-ea9a-4115-b61d-33d72d5a18f5",
   "metadata": {},
   "outputs": [
    {
     "data": {
      "text/plain": [
       "\"A6 x A4\""
      ]
     },
     "execution_count": 92,
     "metadata": {
      "text/plain": ""
     },
     "output_type": "execute_result"
    },
    {
     "data": {
      "text/plain": [
       "\"A6 x A4\""
      ]
     },
     "execution_count": 98,
     "metadata": {
      "text/plain": ""
     },
     "output_type": "execute_result"
    }
   ],
   "source": [
    "setxyz(F3);\n",
    "\n",
    "# исключаем SL2(3), с точностью до замены y -> y^-1\n",
    "G1 := F3 / Concatenation(rels_1, [(y*z)^4]);;\n",
    "\n",
    "setxyz(G1);\n",
    "H1 := Group(x);;\n",
    "\n",
    "iso := FactorCosetAction(G1, H1);;\n",
    "StructureDescription(Group(iso(y), iso(z)));\n",
    "\n",
    "# исключаем SL2(3), с точностью до замены y -> y^-1\n",
    "setxyz(F3);\n",
    "\n",
    "G2 := F3 / Concatenation(rels_1, [(y^-1*z)^4]);;\n",
    "\n",
    "setxyz(G2);\n",
    "H2 := Group(x);;\n",
    "\n",
    "iso := FactorCosetAction(G2, H2);;\n",
    "StructureDescription(Group(iso(y), iso(z)));"
   ]
  },
  {
   "cell_type": "markdown",
   "id": "d02dc391-8f1c-4f33-992d-474ff6465196",
   "metadata": {},
   "source": [
    "поэтому $\\langle y,z \\rangle \\not \\in \\{SL_2(3) \\}$."
   ]
  },
  {
   "cell_type": "markdown",
   "id": "a848be0e-9432-4532-a0b4-f3a3f32ee71f",
   "metadata": {},
   "source": [
    "Если $\\langle y, z\\rangle \\simeq A_5$ (не совсем корректно), то $K/\\langle y\\square z \\rangle \\simeq A_6$,"
   ]
  },
  {
   "cell_type": "code",
   "execution_count": null,
   "id": "08074e4c-e86e-4477-9dd9-67e5515c15d4",
   "metadata": {},
   "outputs": [
    {
     "name": "stdout",
     "output_type": "stream",
     "text": [
      "A6\n",
      "\n",
      "D-подгруппы:\n"
     ]
    },
    {
     "data": {
      "text/plain": [
       "\"C3 x C3\""
      ]
     },
     "execution_count": 104,
     "metadata": {
      "text/plain": ""
     },
     "output_type": "execute_result"
    },
    {
     "data": {
      "text/plain": [
       "\"A5\""
      ]
     },
     "execution_count": 105,
     "metadata": {
      "text/plain": ""
     },
     "output_type": "execute_result"
    },
    {
     "data": {
      "text/plain": [
       "\"A4\""
      ]
     },
     "execution_count": 106,
     "metadata": {
      "text/plain": ""
     },
     "output_type": "execute_result"
    },
    {
     "data": {
      "text/plain": [
       "false"
      ]
     },
     "execution_count": 107,
     "metadata": {
      "text/plain": ""
     },
     "output_type": "execute_result"
    },
    {
     "data": {
      "text/plain": [
       "false"
      ]
     },
     "execution_count": 108,
     "metadata": {
      "text/plain": ""
     },
     "output_type": "execute_result"
    }
   ],
   "source": [
    "# случай <y, z> = A5\n",
    "\n",
    "setxyz(F3);\n",
    "G := F3 / Concatenation(rels_1, A5_rels(y, z));;\n",
    "\n",
    "Print(StructureDescription(G), \"\\n\\n\");\n",
    "\n",
    "setxyz(G);\n",
    "\n",
    "Print(\"D-подгруппы:\\n\");\n",
    "StructureDescription(Group(x, y));\n",
    "StructureDescription(Group(y, z));\n",
    "StructureDescription(Group(x, z));\n",
    "\n",
    "x*y in ConjugacyClass(G, x);\n",
    "x*y^-1 in ConjugacyClass(G, x);"
   ]
  },
  {
   "cell_type": "markdown",
   "id": "fc112f66-6797-478f-8827-75c2e738fa14",
   "metadata": {},
   "source": [
    "Наконец, если $\\langle y, z\\rangle \\simeq SL_2(5)$ (не совсем корректно), то $K/\\langle y\\triangle z \\rangle \\simeq A_6$,"
   ]
  },
  {
   "cell_type": "code",
   "execution_count": 116,
   "id": "1df03385-d30a-463e-932a-ec7f1faaabe3",
   "metadata": {},
   "outputs": [
    {
     "name": "stdout",
     "output_type": "stream",
     "text": [
      "D-подгруппы:\n"
     ]
    },
    {
     "data": {
      "text/plain": [
       "\"A6\""
      ]
     },
     "execution_count": 111,
     "metadata": {
      "text/plain": ""
     },
     "output_type": "execute_result"
    },
    {
     "data": {
      "text/plain": [
       "\"C3 x C3\""
      ]
     },
     "execution_count": 114,
     "metadata": {
      "text/plain": ""
     },
     "output_type": "execute_result"
    },
    {
     "data": {
      "text/plain": [
       "\"A5\""
      ]
     },
     "execution_count": 115,
     "metadata": {
      "text/plain": ""
     },
     "output_type": "execute_result"
    },
    {
     "data": {
      "text/plain": [
       "\"A4\""
      ]
     },
     "execution_count": 116,
     "metadata": {
      "text/plain": ""
     },
     "output_type": "execute_result"
    }
   ],
   "source": [
    "# случай <y, z> = SL(2, 5)\n",
    "\n",
    "setxyz(F3);\n",
    "G := F3 / Concatenation(rels_1, SL25_rels(y, z));; # получается A6\n",
    "StructureDescription(G);\n",
    "\n",
    "setxyz(G);\n",
    "\n",
    "Print(\"D-подгруппы:\\n\");\n",
    "StructureDescription(Group(x, y));\n",
    "StructureDescription(Group(y, z));\n",
    "StructureDescription(Group(x, z));"
   ]
  },
  {
   "cell_type": "markdown",
   "id": "51a65a5b-1212-4ec5-b7a0-079b3a95852b",
   "metadata": {},
   "source": [
    "---"
   ]
  },
  {
   "cell_type": "markdown",
   "id": "58862ea5-8945-46ad-b9d2-b8f8fec18f04",
   "metadata": {},
   "source": [
    "**2.**"
   ]
  },
  {
   "cell_type": "markdown",
   "id": "aa54095a-dd45-4d41-8ad0-5bce4f6be52a",
   "metadata": {},
   "source": [
    "Теоретическая часть:\n",
    "\n",
    "Пусть $\\langle x,z \\rangle \\simeq A_5$. \n",
    "Тогда $\\langle x,x^z \\rangle \\simeq A_4$ \n",
    "и по доказанному либо $[x^z,y]=1$; \n",
    "либо $\\langle x,x^z,y \\rangle \\simeq A_6$, \n",
    "в последнем случае $\\langle y,x^z \\rangle \\simeq A_5$.\n",
    "Аналогично $\\langle x,x^{z^{-1}} \\rangle \\simeq A_4$,\n",
    "поэтому либо $[x^{z^{-1}},y]=1$, \n",
    "либо $\\langle x,x^{z^{-1}},y \\rangle \\simeq A_6$."
   ]
  },
  {
   "cell_type": "markdown",
   "id": "9be0bf62-d8f4-48a5-972b-4655204c8c47",
   "metadata": {},
   "source": [
    "Пусть снова \n",
    "$K=\\{ x,y,z \\mid x^3,y^3,z^3,[x,y],x\\square z \\}$ --- \n",
    "группа, заданная соотношениями из утверждения. \n",
    "Рассмотрим следующие факторы группы $K$ \n",
    "по дополнительным соотношениям:\n",
    "$K/\\langle [x^z,y],(yz)^3 \\rangle \\simeq GL_2(4)$ \n",
    "не является $\\mathfrak{M}$-группой, а \n",
    "$K/\\langle [x^z,y],(yz)^4 \\rangle$ тривиальна.\n",
    "Таким образом, если $[x^z,y]=1$ или $[x^{z^{-1}},y]=1$, то \n",
    "$G \\simeq K/\\langle [x^z,y],yzyzy=zyzyz \\rangle \n",
    "\\simeq A_7$."
   ]
  },
  {
   "cell_type": "markdown",
   "id": "c46e2d85-6e12-454d-9e48-1db26ee08f2a",
   "metadata": {},
   "source": [
    "Пусть снова $K=\\{ x,y,z \\mid x^3,y^3,z^3,[x,y],(x^zx)^2,(xz)^5 \\}$ --- группа, заданная соотношениями из утверждения."
   ]
  },
  {
   "cell_type": "code",
   "execution_count": null,
   "id": "94cd79a1-a30f-4541-a4a9-6f5fbf205bc6",
   "metadata": {},
   "outputs": [],
   "source": [
    "setxyz(F3);\n",
    "\n",
    "relsK := [x^3,y^3,z^3,Comm(x,y),(x^z*x)^2,(x*z)^5];;"
   ]
  },
  {
   "cell_type": "markdown",
   "id": "cef7bfd9-a897-44d5-a24f-b7043ab042c5",
   "metadata": {},
   "source": [
    "Заметим, что $K/\\langle [x^z,y],(yz)^3 \\rangle \\simeq GL_2(4)$ и $K/\\langle [x^z,y],(yz)^4 \\rangle \\simeq 1$."
   ]
  },
  {
   "cell_type": "code",
   "execution_count": 127,
   "id": "8a183572-fff5-4e8d-8e24-84cf4d58669b",
   "metadata": {},
   "outputs": [
    {
     "name": "stdout",
     "output_type": "stream",
     "text": [
      "x -> [ [ 0*Z(2), Z(2)^0 ], [ Z(2)^0, Z(2)^0 ] ]\n",
      "y -> [ [ Z(2^2), 0*Z(2) ], [ 0*Z(2), Z(2^2) ] ]\n",
      "z -> [ [ Z(2^2)^2, 0*Z(2) ], [ 0*Z(2), Z(2^2) ] ]\n"
     ]
    },
    {
     "data": {
      "text/plain": [
       "[ x^-1*z^-2*x^-1*z*x^2*z*(z*x)^2*z^2*x, y^2*z ] -> [ [ [ Z(2^2), Z(2)^0 ], [ Z(2^2), Z(2^2) ] ],   [ [ Z(2^2), 0*Z(2) ], [ 0*Z(2), Z(2)^0 ] ] ]"
      ]
     },
     "execution_count": 123,
     "metadata": {
      "text/plain": ""
     },
     "output_type": "execute_result"
    },
    {
     "data": {
      "text/plain": [
       "true"
      ]
     },
     "execution_count": 127,
     "metadata": {
      "text/plain": ""
     },
     "output_type": "execute_result"
    }
   ],
   "source": [
    "setxyz(F3);\n",
    "\n",
    "K1 := F3 / Concatenation(relsK, [Comm(x^z, y), (y*z)^3]);;\n",
    "\n",
    "GL24 := GeneralLinearGroup(2, 4);;\n",
    "\n",
    "# iso := IsomorphismGroups(K1, GL24);\n",
    "# Вывод: [ x^-1*z^-2*x^-1*z*x^2*z*(z*x)^2*z^2*x, y^2*z ] -> [ [ [ Z(2^2), Z(2)^0 ], [ Z(2^2), Z(2^2) ] ],   [ [ Z(2^2), 0*Z(2) ], [ 0*Z(2), Z(2)^0 ] ] ]\n",
    "\n",
    "setxyz(K1);\n",
    "iso := GroupHomomorphismByImages(K1, GL24, [ x^-1*z^-2*x^-1*z*x^2*z*(z*x)^2*z^2*x, y^2*z ] , [ [ [ Z(2^2), Z(2)^0 ], [ Z(2^2), Z(2^2) ] ],   [ [ Z(2^2), 0*Z(2) ], [ 0*Z(2), Z(2)^0 ] ] ]);\n",
    "Print(\"x -> \", iso(x), \"\\n\");\n",
    "Print(\"y -> \", iso(y), \"\\n\");\n",
    "Print(\"z -> \", iso(z), \"\\n\");\n",
    "\n",
    "Image(iso) = GL24;"
   ]
  },
  {
   "cell_type": "code",
   "execution_count": null,
   "id": "c5c93382-927a-42fb-85b8-87d9d3583d2c",
   "metadata": {},
   "outputs": [
    {
     "data": {
      "text/plain": [
       "true"
      ]
     },
     "execution_count": 130,
     "metadata": {
      "text/plain": ""
     },
     "output_type": "execute_result"
    }
   ],
   "source": [
    "setxyz(F3);\n",
    "\n",
    "K2 := F3 / Concatenation(relsK, [Comm(x^z,y),(y*z)^4]);;\n",
    "\n",
    "Order(K2) = 1;"
   ]
  },
  {
   "cell_type": "markdown",
   "id": "9d6eb549-222d-4f43-82c8-2461ddda1b05",
   "metadata": {},
   "source": [
    "Поэтому, если $[x^z,y]=1$ или $[x^{z^{-1}},y]=1$, то $G \\simeq K/\\langle [x^z,y],yzyzy=zyzyz \\rangle \\simeq A_7$."
   ]
  },
  {
   "cell_type": "code",
   "execution_count": 138,
   "id": "c3a2f8c4-2e46-4545-afb5-36cc18daedfb",
   "metadata": {},
   "outputs": [
    {
     "name": "stdout",
     "output_type": "stream",
     "text": [
      "x -> (1,3,4)\n",
      "y -> (5,6,7)\n",
      "z -> (2,7,3)\n"
     ]
    },
    {
     "data": {
      "text/plain": [
       "[ z^-1*(x^-1*z^2*x*y^-1*z*y*x*y)^3*z, x*z^-1*x*z^2*x*y^-1*z^-1*y^2*z^-1 ] -> [ (3,6)(4,5), (1,7,4,5,3,6,2) ]"
      ]
     },
     "execution_count": 134,
     "metadata": {
      "text/plain": ""
     },
     "output_type": "execute_result"
    },
    {
     "data": {
      "text/plain": [
       "true"
      ]
     },
     "execution_count": 138,
     "metadata": {
      "text/plain": ""
     },
     "output_type": "execute_result"
    }
   ],
   "source": [
    "setxyz(F3);\n",
    "\n",
    "K3 := F3 / Concatenation(relsK, comm(x^z, y), A5_rels(y, z));;\n",
    "\n",
    "# iso := IsomorphismGroups(K3, AlternatingGroup(7)); \n",
    "# [ z^-1*x^-1*z^2*x*y^-1*z*y*x*y*x^-1*z^2*x*y^-1*z*y*x*y*x^-1*z^2*x*y^-1*z*y*x*y\\*z, x*z^-1*x*z^2*x*y^-1*z^-1*y^2*z^-1 ] -> [ (3,6)(4,5), (1,7,4,5,3,6,2) ]\n",
    "\n",
    "setxyz(K3);\n",
    "iso :=  GroupHomomorphismByImages(K3, AlternatingGroup(7), [ z^-1*x^-1*z^2*x*y^-1*z*y*x*y*x^-1*z^2*x*y^-1*z*y*x*y*x^-1*z^2*x*y^-1*z*y*x*y*z, x*z^-1*x*z^2*x*y^-1*z^-1*y^2*z^-1 ], [ (3,6)(4,5), (1,7,4,5,3,6,2) ]);\n",
    "Print(\"x -> \", iso(x), \"\\n\");\n",
    "Print(\"y -> \", iso(y), \"\\n\");\n",
    "Print(\"z -> \", iso(z), \"\\n\");\n",
    "Image(iso) = AlternatingGroup(7);"
   ]
  },
  {
   "cell_type": "markdown",
   "id": "2cc9c3c1-fa96-45a6-bb90-5d9f392cda4a",
   "metadata": {},
   "source": [
    "Пусть далее $x^z,x^{z^{-1}} \\not \\in C_D(y)$. Тогда, как отмечалось выше, $\\langle y,x^z \\rangle \\simeq \\langle y,x^{z^{-1}}\\rangle \\simeq A_5$.\n",
    "Поэтому $G$ является гомоморфным образом группы \n",
    "$F=K/\\langle y \\square x^z, y\\square x^{z^{-1}} \\rangle$. \n",
    "При этом,\n",
    "$F/\\langle (xz)^3 \\rangle  \\simeq A_6$, $F/\\langle (xz)^4 \\rangle \\simeq V$, $F/\\langle xzxzx=zxzxz \\rangle \\simeq U$."
   ]
  },
  {
   "cell_type": "markdown",
   "id": "a4fc4e6d-fbe9-451a-9fe9-33f4a4c7a146",
   "metadata": {},
   "source": [
    "**Почему-то этот момент не получается:**"
   ]
  },
  {
   "cell_type": "code",
   "execution_count": null,
   "id": "d473acaa-444c-4545-b02b-0f48c70a09f3",
   "metadata": {},
   "outputs": [
    {
     "name": "stdout",
     "output_type": "stream",
     "text": [
      "#I  Forcing finiteness test\n",
      "#I  Forcing finiteness test\n"
     ]
    },
    {
     "data": {
      "text/plain": [
       "fail"
      ]
     },
     "execution_count": 142,
     "metadata": {
      "text/plain": ""
     },
     "output_type": "execute_result"
    },
    {
     "data": {
      "text/plain": [
       "fail"
      ]
     },
     "execution_count": 144,
     "metadata": {
      "text/plain": ""
     },
     "output_type": "execute_result"
    },
    {
     "data": {
      "text/plain": [
       "fail"
      ]
     },
     "execution_count": 146,
     "metadata": {
      "text/plain": ""
     },
     "output_type": "execute_result"
    }
   ],
   "source": [
    "setxyz(F3);\n",
    "\n",
    "relsF := Concatenation(relsK, square(y, x^z), square(y, x^(z^-1)));;\n",
    "\n",
    "G1 := F3 / Concatenation(relsF, [(x*z)^3]);;\n",
    "\n",
    "iso := IsomorphismGroups(G1, AlternatingGroup(6));\n",
    "\n",
    "G2 := F3 / Concatenation(relsF, [(x*z)^4]);;\n",
    "iso := IsomorphismGroups(G2, V);\n",
    "\n",
    "G3 := F3 / Concatenation(relsF, ParseRelators([x, y, z], \"xzxzx = zxzxz\"));;\n",
    "iso := IsomorphismGroups(G2, V);"
   ]
  },
  {
   "cell_type": "markdown",
   "id": "51ac831d-0fed-4748-b472-05cfab3bb99f",
   "metadata": {},
   "source": [
    "---\n",
    "\n",
    "**3.**"
   ]
  },
  {
   "cell_type": "markdown",
   "id": "69230ed4-844d-43c3-9f04-c708f9f8adf3",
   "metadata": {},
   "source": [
    "Можно считать $x\\sim z$. Если $z\\sim y$, то $G\\simeq Sp_3(3)$."
   ]
  },
  {
   "cell_type": "code",
   "execution_count": 148,
   "id": "8341ad6f-42d4-4bec-8c57-fbea4511dc0f",
   "metadata": {},
   "outputs": [],
   "source": [
    "setxyz(F3);\n",
    "\n",
    "G := F3 / Concatenation(sim(x, z), sim(z, y));;\n",
    "# iso := IsomorphismGroups(G, Sp(6,3)); # в лоб не идёт"
   ]
  },
  {
   "cell_type": "markdown",
   "id": "0a60f87d-402d-4389-8edd-bbd3a650920c",
   "metadata": {},
   "source": [
    "Теория:\n",
    "\n",
    "Если $z\\sim y^{-1}$, то заменяя $y$ на $y^{-1}$, снова получим $G\\simeq Sp_3(3)$.\n",
    "По доказанному можно считать, что $\\langle y,z \\rangle \\not \\in \\{3^2,A_4,A_5,SL_2(3) \\}$.\n",
    "Рассмотрим две оставшиеся возможности."
   ]
  },
  {
   "cell_type": "markdown",
   "id": "3e906471-21a3-430b-befc-d5d68847e4b7",
   "metadata": {},
   "source": [
    "Пусть $K=\\{ x,y,z \\mid y^3,[x,y],x\\sim z \\}$.\n",
    "Заметим, что $K/\\langle (yz)^3,(yz^{-1})^3 \\rangle \\simeq 3 \\times (3^2:SL_2(3))$, при этом центр порождается элементом $(xyz^2)^4$."
   ]
  },
  {
   "cell_type": "code",
   "execution_count": null,
   "id": "9b30990d-f9db-4dda-9c49-fdbce345b97d",
   "metadata": {},
   "outputs": [
    {
     "data": {
      "text/plain": [
       "Group([ z*x*y^2*z*y^-2*x*z^-1*y^2*x^-1*z^-1*y^-1*z^-1 ])"
      ]
     },
     "execution_count": 153,
     "metadata": {
      "text/plain": ""
     },
     "output_type": "execute_result"
    },
    {
     "data": {
      "text/plain": [
       "true"
      ]
     },
     "execution_count": 154,
     "metadata": {
      "text/plain": ""
     },
     "output_type": "execute_result"
    },
    {
     "data": {
      "text/plain": [
       "<permutation group of size 216 with 3 generators>"
      ]
     },
     "execution_count": 155,
     "metadata": {
      "text/plain": ""
     },
     "output_type": "execute_result"
    },
    {
     "data": {
      "text/plain": [
       "<permutation group of size 9 with 2 generators>"
      ]
     },
     "execution_count": 156,
     "metadata": {
      "text/plain": ""
     },
     "output_type": "execute_result"
    },
    {
     "data": {
      "text/plain": [
       "\"SL(2,3)\""
      ]
     },
     "execution_count": 157,
     "metadata": {
      "text/plain": ""
     },
     "output_type": "execute_result"
    }
   ],
   "source": [
    "setxyz(F3);\n",
    "\n",
    "rels_3 := Concatenation([y^3], comm(x, y), sim(x, z));;\n",
    "K := F3 / Concatenation(rels_3, [(y*z)^3, (y*z^-1)^3]);;\n",
    "\n",
    "setxyz(K);\n",
    "\n",
    "H := Center(K);\n",
    "Group((x*y*z^2)^4) = H; #true\n",
    "\n",
    "F := K / H;\n",
    "N := NormalSubgroups(F)[4];\n",
    "# GeneratorsOfGroup(N);\n",
    "\n",
    "StructureDescription(F / N);"
   ]
  },
  {
   "cell_type": "markdown",
   "id": "1d107f7d-1a1e-4326-8782-8081acea4afe",
   "metadata": {},
   "source": [
    "Поэтому далее рассмотрим группу \n",
    "$A=K/\\langle y\\triangle z \\rangle$ и \n",
    "$B=\\langle x,y,y^z \\rangle$ --- подгруппу в $A$. Перечисляя смежные классы $A$ по $B$ получим подстановочное представление расширения 2-группы\n",
    "порядка $2^{11}$ посредством $SL_2(9)$, которое не является $\\mathfrak{M}_4$-группой. "
   ]
  },
  {
   "cell_type": "code",
   "execution_count": 163,
   "id": "6fa2efe9-446d-49d7-8ad2-9100fc3ea9fb",
   "metadata": {},
   "outputs": [
    {
     "data": {
      "text/plain": [
       "<fp group on the generators [ x, y, z ]>"
      ]
     },
     "execution_count": 160,
     "metadata": {
      "text/plain": ""
     },
     "output_type": "execute_result"
    },
    {
     "data": {
      "text/plain": [
       "Group([ x, y, z^-1*y*z ])"
      ]
     },
     "execution_count": 162,
     "metadata": {
      "text/plain": ""
     },
     "output_type": "execute_result"
    },
    {
     "data": {
      "text/plain": [
       "[ x, y, z ] -> [ (2,4,5)(3,8,9)(6,10,12)(7,11,13)(16,27,19)(18,32,21)(28,51,35)(29,52,36)(33,    61,39)(34,62,40)(43,79,58)(44,57,80)(45,82,50)(46,49,83)(47,85,86)(48,87,    81)(54,94,91)(55,68,95)(59,98,99)(60,100,84)(63,74,103)(66,104,101)(69,    106,107)(70,88,109)(71,110,111)(72,112,90)(75,113,114)(76,115,96)(77,116,    117)(78,89,118)(108,122,123)(121,126,127),   (2,6,7)(4,10,11)(5,12,13)(14,23,24)(15,25,26)(16,28,29)(17,30,31)(18,33,    34)(19,35,36)(20,37,38)(21,39,40)(22,41,42)(27,51,52)(32,61,62)(43,68,    76)(44,81,70)(45,72,74)(46,78,84)(48,88,57)(49,89,60)(50,90,63)(53,93,    64)(55,96,58)(56,97,65)(67,105,73)(69,108,77)(79,95,115)(80,87,109)(82,    112,103)(83,118,100)(106,122,116)(107,123,117),   (1,2,3)(5,14,8)(10,15,16)(11,17,18)(12,19,20)(13,21,22)(23,43,44)(24,45,    46)(25,47,48)(26,49,50)(28,53,54)(29,55,56)(30,57,58)(31,59,60)(33,63,    64)(34,65,66)(36,67,68)(37,69,70)(38,71,72)(39,73,74)(41,75,76)(42,77,    78)(51,91,92)(62,101,102)(86,119,87)(88,107,93)(89,117,97)(99,120,    100)(105,121,108)(111,124,112)(114,125,115)(122,127,128) ]"
      ]
     },
     "execution_count": 163,
     "metadata": {
      "text/plain": ""
     },
     "output_type": "execute_result"
    }
   ],
   "source": [
    "setxyz(F3);\n",
    "\n",
    "relsA := Concatenation(rels_3, triangle(y, z));;\n",
    "A := F3 / relsA;\n",
    "\n",
    "setxyz(A);\n",
    "\n",
    "B := Group(x, y, y^z);\n",
    "\n",
    "iso := FactorCosetAction(A, B);\n",
    "\n",
    "# StructureDescription(Image(iso, A)); # \"((C4 x ((C8 : C4) : C4)) : C4) : SL(2,9)\""
   ]
  },
  {
   "cell_type": "markdown",
   "id": "68ee1372-d6c1-4a5c-996a-33e3ab5618ea",
   "metadata": {},
   "source": [
    "Положим $w=y^{zxz^{-1}yz^{-1}xyz^{-1}xz}$ и рассмотрим\n",
    "фактор-группу $C=A/\\langle x \\sim w \\rangle$ и ее подгруппу $D=\\langle x,y,y^z \\rangle$. \n",
    "Перечисляя смежные классы $C$ по $D$ получим группу $V$.\n",
    "Получившееся представление не является точным.\n",
    "Перечисления смежных классов $C$ \n",
    "по $\\langle y,z \\rangle$\n",
    "дает группу подстановок порядка $2^{16}|A_6|$.\n",
    "Индекс $|C:\\langle y,z \\rangle|$ равен $2^{16}\\cdot 3$, поэтому представление является точным.\n",
    "Вычислениями в соответствующей группе подстановок получаем, что в группе $C$ подгруппа:\n",
    "$\\langle x,x^i \\rangle$ имеет порядок $2^5\\times 3$, \n",
    "где $i=(yz)^5$ --- центральный элемент подгруппы $\\langle y,z \\rangle$.\n",
    "\n",
    "**Как получить изоморфизм с $V$? Как проверить, точное/не точное соответствие?**"
   ]
  },
  {
   "cell_type": "code",
   "execution_count": null,
   "id": "7964547e-1b29-47c1-b569-9d255ce845eb",
   "metadata": {},
   "outputs": [],
   "source": [
    "setxyz(F3);\n",
    "\n",
    "w := y^(z*x*z^-1*y*z^-1*x*y*z^-1*x*z);;\n",
    "relsC := Concatenation(relsA, sim(x, w));;\n",
    "C := F3 / relsC;;\n",
    "\n",
    "setxyz(C);\n",
    "\n",
    "D := Group(x, y, y^z);;\n",
    "\n",
    "iso := FactorCosetAction(C, D);;\n",
    "\n",
    "IsomorphismGroups(Image(iso, C), V);\n"
   ]
  },
  {
   "cell_type": "markdown",
   "id": "ba615ac2-6fa9-4de7-90da-bcbc14ec1542",
   "metadata": {},
   "source": [
    "Поэтому в группе $G$ подгруппа $\\langle x,x^i \\rangle$ не изоморфна $A_5$ или $SL_2(5)$.\n",
    "Рассмотрим оставшиеся возможности.\n",
    "Группа $C/\\langle x\\sim x^i \\rangle$ является $\\mathfrak{M}_4$-группой, изоморфной расширению 2-группы порядка $2^{11}$ посредством $A_6$.\n",
    "*%нет 3^{1+2} и A_5*\n",
    "\n",
    "Группа $C/\\langle x^{-1}\\sim x^i \\rangle$ тривиальна.\n",
    "Наконец, $C/\\langle (xx^i)^3,(x^{-1}x^i)^3 \\rangle$ является $\\mathfrak{M}_4$-группой и изоморфна центральному расширению $\\langle (yz)^5 \\rangle .V$.\n",
    "\n",
    "*%4. Рассмотрим случай $x \\triangle z \\triangle y$.*\n",
    "*%Тогда $y \\sim y^z$ и группа $\\langle x,y,y^z \\rangle$*\n",
    "*%удовлетворяет условиям случая 3, в частности, является конечной.*"
   ]
  },
  {
   "cell_type": "code",
   "execution_count": null,
   "id": "5cdceece-23d7-45e1-b24c-ee7fb44b16b0",
   "metadata": {},
   "outputs": [],
   "source": [
    "setxyz(F3);\n",
    "\n",
    "C1 := F3 / Concatenation(relsC, sim(x, x^i));;\n",
    "StructureDescription(C1);\n",
    "\n",
    "C2 := F3 / Concatenation(relsC, sim(x^-1, x^i));;\n",
    "StructureDescription(C2);\n",
    "\n",
    "C3 := F3 / Concatenation(relsC, [(x*x^i)^3, (x^-1*x^i)^3]);\n",
    "setxyz(C3);\n",
    "\n",
    "H := Group((y*z)^5);;\n",
    "IsomorphismGroups(C3 / H, V);"
   ]
  },
  {
   "cell_type": "markdown",
   "id": "3a814916-5ae8-463e-b64d-550eae9acbde",
   "metadata": {},
   "source": [
    "Заметим, что $K/\\langle (yz)^3,(yz^{-1})^3 \\rangle \\simeq 648$ - уточнить строение этой группы, уточнить является ли она $Sp_3(3)$ и $M$-группой."
   ]
  },
  {
   "cell_type": "markdown",
   "id": "47064eae-9983-41b2-80db-71a4261cafb1",
   "metadata": {},
   "source": [
    "Пусть $A=K/\\langle y\\square z \\rangle$ и $B=\\langle x,y,y^z \\rangle$ --- подгруппа в $A$."
   ]
  },
  {
   "cell_type": "code",
   "execution_count": 171,
   "id": "ffa78dff-9c2a-4a14-ae01-6f6c017958e1",
   "metadata": {},
   "outputs": [],
   "source": [
    "relsA := Concatenation(relsK, square(y, z));;\n",
    "#A := F3 / relsA;;\n",
    "\n",
    "#x := A.1;; y := A.2;; z := A.3;;\n",
    "#B := Group(x, y, y^z);;"
   ]
  },
  {
   "cell_type": "markdown",
   "id": "8c81dbae-c00f-4580-93f8-588472ebb163",
   "metadata": {},
   "source": [
    "Перечисляя смежные классы $A$ по $B$ получим подстановочное представление расширения 2-группы\n",
    "порядка $2^{11}$ посредством $SL_2(9)$, которое не является $M$-группой.\n"
   ]
  },
  {
   "cell_type": "markdown",
   "id": "feebdc54-3cb0-47a3-a2e2-9198854fd75a",
   "metadata": {},
   "source": [
    "Положим $w=y^{zxz^{-1}yz^{-1}xyz^{-1}xz}$ и рассмотрим\n",
    "фактор-группу $C=A/\\langle x \\sim w \\rangle$ и ее подгруппу $D=\\langle x,y,y^z \\rangle$.\n",
    "Перечисляя смежные классы $C$ по $D$ получим группу $V$.\n",
    "Нужно разобраться, является ли получившееся представление точным."
   ]
  },
  {
   "cell_type": "code",
   "execution_count": null,
   "id": "87088cb9-54c5-4613-bf9e-7affa67a85a9",
   "metadata": {},
   "outputs": [],
   "source": [
    "x := F.1;; y := F.2;; z := F.3;;\n",
    "\n",
    "w := y^(z*x*z^-1*y*z^-1*x*y*z^-1*x*z);;\n",
    "\n",
    "relsC := Concatenation(relsA, [sim(x, w)]);;\n",
    "#C := F / relsC;;\n",
    "\n",
    "#x := C.1;; y := C.2;; z := C.3;;\n",
    "#D := Group(x, y, y^z);;"
   ]
  },
  {
   "cell_type": "markdown",
   "id": "e73851e2-ce3c-4232-a588-8cf2dc3ca768",
   "metadata": {},
   "source": [
    "Возможно удобно все вычисления вынести в таблицу и писать доказательство, ссылаясь на нее. $\\square$"
   ]
  },
  {
   "cell_type": "markdown",
   "id": "761a6822-14b3-46b7-bf37-2706a19a67ff",
   "metadata": {},
   "source": [
    "---\n",
    "\n",
    "#Incidence geometry\n",
    "\n",
    "Ashbacher - finiteGroup"
   ]
  },
  {
   "cell_type": "markdown",
   "id": "6f0826e7-a21d-4825-ad22-fb7dc42f2196",
   "metadata": {},
   "source": [
    "$Sp_3(3)$:"
   ]
  },
  {
   "cell_type": "code",
   "execution_count": 187,
   "id": "b076fb81-35b3-4867-806e-d37ece8c5dfe",
   "metadata": {
    "editable": true,
    "slideshow": {
     "slide_type": ""
    },
    "tags": []
   },
   "outputs": [],
   "source": [
    "F := FreeGroup(\"x\", \"y\", \"z\");;\n",
    "x := F.1;; y := F.2;; z := F.3;;\n",
    "\n",
    "Sp33 := F / Concatenation(sim(x, y), sim(y, z));;\n",
    "\n",
    "x := Sp33.1;; y := Sp33.2;; z := Sp33.3;;"
   ]
  },
  {
   "cell_type": "code",
   "execution_count": null,
   "id": "dcf8dac7-19f5-4fc0-abfa-7794d226d3c4",
   "metadata": {},
   "outputs": [],
   "source": []
  },
  {
   "cell_type": "markdown",
   "id": "3555889e-2a79-45d9-a43f-4a389d064da3",
   "metadata": {},
   "source": [
    "2. Пусть $\\langle x,z \\rangle \\simeq A_5$.\n"
   ]
  },
  {
   "cell_type": "code",
   "execution_count": null,
   "id": "884d332a-d83f-477f-8a74-5f68c6d67674",
   "metadata": {},
   "outputs": [],
   "source": [
    "A5 := AlternatingGroup(5);;\n",
    "\n",
    "A5_gens := [];;\n",
    "\n",
    "for x in A5 do\n",
    "    if Order(x) <> 3 then continue; fi;\n",
    "\n",
    "    for z in AsList(ConjugacyClass(A5, x)) do\n",
    "        if Group(x, z) = A5 then\n",
    "            Add(A5_gens, [x, z]);;\n",
    "        fi;\n",
    "    od;\n",
    "od;"
   ]
  },
  {
   "cell_type": "code",
   "execution_count": 190,
   "id": "88a95867-a7da-44dc-98d3-4ac39dcfe89e",
   "metadata": {},
   "outputs": [],
   "source": [
    "# Print(A5_gens);"
   ]
  },
  {
   "cell_type": "markdown",
   "id": "3ffd20d3-4751-47be-8a37-1c46eb74d5cf",
   "metadata": {},
   "source": [
    "Тогда $\\langle x,x^z \\rangle \\simeq A_4$:"
   ]
  },
  {
   "cell_type": "code",
   "execution_count": null,
   "id": "bad1587d-e260-4607-8e5a-874df5226d4e",
   "metadata": {
    "editable": true,
    "slideshow": {
     "slide_type": ""
    },
    "tags": []
   },
   "outputs": [],
   "source": [
    "LoadPackage(\"sonata\");;\n",
    "\n",
    "for gens in A5_gens do\n",
    "    x := gens[1];; z := gens[2];;\n",
    "    if not IsIsomorphicGroup(Group(x, x^z), AlternatingGroup(4)) then\n",
    "        Print(\"Not A4: <\", x, \" \", x^z, \"> = \", StructureDescription(Group(x, x^z)), \"\\n\"); #вывод пустой\n",
    "    fi;\n",
    "od;"
   ]
  },
  {
   "cell_type": "code",
   "execution_count": null,
   "id": "00013385-0cdd-400a-8698-224f2bdb1a0c",
   "metadata": {},
   "outputs": [],
   "source": []
  },
  {
   "cell_type": "code",
   "execution_count": null,
   "id": "c87223dd-44ef-44ec-993d-1b30b57e906e",
   "metadata": {},
   "outputs": [],
   "source": []
  },
  {
   "cell_type": "code",
   "execution_count": 194,
   "id": "5141b60a-f3b1-4d4e-a2b4-d14eccee6d2a",
   "metadata": {
    "editable": true,
    "slideshow": {
     "slide_type": ""
    },
    "tags": []
   },
   "outputs": [
    {
     "data": {
      "text/plain": [
       "Sp(6,3)"
      ]
     },
     "execution_count": 193,
     "metadata": {
      "text/plain": ""
     },
     "output_type": "execute_result"
    },
    {
     "data": {
      "text/plain": [
       "[ 2, 2, 2, 2, 2, 2, 2, 2, 2, 2, 3, 3, 3, 3, 3, 3, 3, 3, 3, 5, 7, 13 ]"
      ]
     },
     "execution_count": 194,
     "metadata": {
      "text/plain": ""
     },
     "output_type": "execute_result"
    }
   ],
   "source": [
    "G := Sp(6, 3);\n",
    "FactorsInt(Order(G));"
   ]
  },
  {
   "cell_type": "code",
   "execution_count": null,
   "id": "3e5c6cb4-b661-413c-9436-c3b19f990538",
   "metadata": {},
   "outputs": [],
   "source": []
  },
  {
   "cell_type": "code",
   "execution_count": null,
   "id": "8b9c510c-c1db-405a-8a7d-d5e7cd513ac7",
   "metadata": {},
   "outputs": [],
   "source": []
  }
 ],
 "metadata": {
  "kernelspec": {
   "display_name": "GAP 4",
   "language": "gap",
   "name": "gap-4"
  },
  "language_info": {
   "codemirror_mode": "gap",
   "file_extension": ".g",
   "mimetype": "text/x-gap",
   "name": "GAP 4",
   "nbconvert_exporter": "",
   "pygments_lexer": "gap",
   "version": "4.13.1"
  }
 },
 "nbformat": 4,
 "nbformat_minor": 5
}
