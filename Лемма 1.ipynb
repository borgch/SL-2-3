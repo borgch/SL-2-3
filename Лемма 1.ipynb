{
 "cells": [
  {
   "cell_type": "markdown",
   "id": "5894a08b-73a6-4058-9072-0be6694801b0",
   "metadata": {},
   "source": [
    "Полезные в дальнейшем сокращения для определяющих соотношений:"
   ]
  },
  {
   "cell_type": "code",
   "execution_count": null,
   "id": "ba1f2945-bb93-49b2-8afe-cfa6c52ac317",
   "metadata": {
    "scrolled": true
   },
   "outputs": [],
   "source": [
    "eq := function(a, b) #eq(a, b) = 1 <=> a ~ b\n",
    "    return a*b*a*b^-1*a^-1*b^-1;\n",
    "end;;\n",
    "\n",
    "c := function(a, b) # c(a, b) = 1 <=> a, b коммутируют\n",
    "    return a^-1*b^-1*a*b;\n",
    "end;;"
   ]
  },
  {
   "cell_type": "markdown",
   "id": "9a595b4c-c8f7-43f7-a192-f7de2914f72b",
   "metadata": {},
   "source": [
    "Порождающие $SL_2(3)$:"
   ]
  },
  {
   "cell_type": "code",
   "execution_count": 6,
   "id": "41a05f71-5619-4429-b2c1-0f60b71c9dff",
   "metadata": {},
   "outputs": [
    {
     "data": {
      "text/plain": [
       "true"
      ]
     },
     "execution_count": 5,
     "metadata": {
      "text/plain": ""
     },
     "output_type": "execute_result"
    },
    {
     "data": {
      "text/plain": [
       "true"
      ]
     },
     "execution_count": 6,
     "metadata": {
      "text/plain": ""
     },
     "output_type": "execute_result"
    }
   ],
   "source": [
    "a := [[Z(3)^0, Z(3)^0], [0*Z(3), Z(3)^0]];;\n",
    "b := [[Z(3)^0, 0*Z(3)], [-Z(3)^0, Z(3)^0]];;\n",
    "\n",
    "Group(a, b) = SpecialLinearGroup(2, 3);\n",
    "eq(a, b) = One(Group(a, b)); #true, то есть a ~ b"
   ]
  },
  {
   "cell_type": "markdown",
   "id": "072f2631-d142-4a55-8b74-738968ab5d96",
   "metadata": {},
   "source": [
    "**Лемма 1.**\n",
    "Пусть $G$ --- $\\mathfrak{M}_4$-группа, $x,y,z \\in D$, $y\\not \\in \\langle x,z \\rangle$, $G=\\langle x,y,z \\rangle$ и $[x,y]=1$. Тогда\n",
    "1) Если $\\langle x,z \\rangle \\simeq A_4$, то $G \\simeq A_6$.\n",
    "2) Если $\\langle x,z \\rangle \\simeq A_5$, то $G$ является фактором одной из групп $U,V,A_6,A_7$.\n",
    "3) Если $\\langle x,z \\rangle \\simeq SL_2(3)$, то"
   ]
  },
  {
   "cell_type": "markdown",
   "id": "f647d042-4c04-4741-9f93-1fff7c527a14",
   "metadata": {},
   "source": [
    "**Доказательство.**\n",
    "\n",
    "1. Подстановки $x= (1,2,3)$, $y=(4,5,6)$ и $z=(2,3,4)$ удовлетворяют требуемым условиям и порождают $A_6$:"
   ]
  },
  {
   "cell_type": "code",
   "execution_count": null,
   "id": "2712719b-54ba-4198-b159-45fdcae75a2f",
   "metadata": {},
   "outputs": [
    {
     "data": {
      "text/plain": [
       "true"
      ]
     },
     "execution_count": 12,
     "metadata": {
      "text/plain": ""
     },
     "output_type": "execute_result"
    },
    {
     "data": {
      "text/plain": [
       "true"
      ]
     },
     "execution_count": 13,
     "metadata": {
      "text/plain": ""
     },
     "output_type": "execute_result"
    },
    {
     "data": {
      "text/plain": [
       "true"
      ]
     },
     "execution_count": 14,
     "metadata": {
      "text/plain": ""
     },
     "output_type": "execute_result"
    },
    {
     "data": {
      "text/plain": [
       "true"
      ]
     },
     "execution_count": 15,
     "metadata": {
      "text/plain": ""
     },
     "output_type": "execute_result"
    },
    {
     "data": {
      "text/plain": [
       "true"
      ]
     },
     "execution_count": 16,
     "metadata": {
      "text/plain": ""
     },
     "output_type": "execute_result"
    }
   ],
   "source": [
    "x := (1, 2, 3);; y := (4, 5, 6);; z := (2, 3, 4);;\n",
    "G := Group(x, y, z);;\n",
    "H := Group(x, z);;\n",
    "\n",
    "H = AlternatingGroup(4);\n",
    "IsSubset(ConjugacyClass(G, x), [y, z]);\n",
    "(y in Group(x, z)) = false;\n",
    "Comm(x, y) = ();\n",
    "G = AlternatingGroup(6);"
   ]
  },
  {
   "cell_type": "markdown",
   "id": "a8a7a73c-b7db-4652-b067-99f1dc86fad8",
   "metadata": {},
   "source": [
    "Пусть $K=\\{ x,y,z \\mid x^3,y^3,z^3,[x,y],(xz)^2 \\}$ --- группа, заданная соотношениями из утверждения."
   ]
  },
  {
   "cell_type": "code",
   "execution_count": null,
   "id": "bf65e318-1f2d-44b9-bb2b-aedef5675de6",
   "metadata": {},
   "outputs": [],
   "source": [
    "F := FreeGroup(\"x\", \"y\", \"z\");; #для ParseRelators в дальнейшем важно, чтобы порождающие имели однобуквенные имена\n",
    "x := F.1;; y := F.2;; z := F.3;;\n",
    "\n",
    "relsK := [x^3, y^3, z^3, c(x, y), (x*z)^2];;\n",
    "K := F / relsK;;"
   ]
  },
  {
   "cell_type": "markdown",
   "id": "c2066ee6-e85e-4adb-9383-01d56ba853d7",
   "metadata": {},
   "source": [
    "Заметим, что $K/\\langle ((yz)^3)^K \\rangle \\simeq A_4 \\times A_4$:"
   ]
  },
  {
   "cell_type": "code",
   "execution_count": 27,
   "id": "05e90b6e-b6e6-402d-a723-a2e1ff00e19e",
   "metadata": {},
   "outputs": [],
   "source": [
    "x := F.1;; y := F.2;; z := F.3;;\n",
    "\n",
    "relsK1 := Concatenation(relsK, [(y*z)^3]);;\n",
    "K1 := F / relsK1;;"
   ]
  },
  {
   "cell_type": "code",
   "execution_count": null,
   "id": "98a5eacb-698d-42d5-bb8a-3357ed7d43f2",
   "metadata": {
    "scrolled": true
   },
   "outputs": [
    {
     "data": {
      "text/plain": [
       "true"
      ]
     },
     "execution_count": 34,
     "metadata": {
      "text/plain": ""
     },
     "output_type": "execute_result"
    }
   ],
   "source": [
    "A4 := AlternatingGroup(4);;\n",
    "A4xA4 := DirectProduct(A4, A4);;\n",
    "\n",
    "# iso := IsomorphismGroups(K1, A4xA4);;\n",
    "# [ f1, f2, f3 ] -> [ (1,4,3)(6,8,7), (6,7,8), (1,4,2)(5,7,6) ]\n",
    "\n",
    "f1 := K1.1;; f2 := K1.2;; f3 := K1.3;;\n",
    "iso := GroupHomomorphismByImages(K1, A4xA4, [ f1, f2, f3 ], [ (1,4,3)(6,8,7), (6,7,8), (1,4,2)(5,7,6) ]);;\n",
    "\n",
    "iso(K1) = A4xA4;"
   ]
  },
  {
   "cell_type": "markdown",
   "id": "dbcd2e38-983d-449f-865e-58e4651ef48d",
   "metadata": {},
   "source": [
    "поэтому, заменяя, если необходимо, $y$ на $y^{-1}$, можно считать, что \n",
    "$\\langle y,z \\rangle \\not \\in \\{3^2,3^{1+2},A_4 \\}$.\n",
    "\n",
    "***(BD: почему?)***"
   ]
  },
  {
   "cell_type": "markdown",
   "id": "08efdc50-b253-4e37-8722-a4832bceefb4",
   "metadata": {},
   "source": [
    "Кроме того, $K/\\langle (yz)^4 \\rangle = \\langle yK,zK \\rangle \\simeq A_4 \\times A_6$,"
   ]
  },
  {
   "cell_type": "code",
   "execution_count": null,
   "id": "653e44ce-9c8b-4b49-adb0-59f27174ae68",
   "metadata": {},
   "outputs": [],
   "source": [
    "x := F.1;; y := F.2;; z := F.3;;\n",
    "\n",
    "relsK2 := Concatenation(relsK, [(y*z)^4]);;\n",
    "K2 := F / relsK2;;"
   ]
  },
  {
   "cell_type": "code",
   "execution_count": 47,
   "id": "9bc3bb67-692d-40f0-b326-d60deb938935",
   "metadata": {},
   "outputs": [
    {
     "data": {
      "text/plain": [
       "true"
      ]
     },
     "execution_count": 47,
     "metadata": {
      "text/plain": ""
     },
     "output_type": "execute_result"
    }
   ],
   "source": [
    "A4 := AlternatingGroup(4);;\n",
    "A6 := AlternatingGroup(6);;\n",
    "A4xA6 :=  DirectProduct(A4, A6);;\n",
    "\n",
    "# iso := IsomorphismGroups(K2, A4xA6);;\n",
    "# [ f1*f3, f1*(f2^-1*f3^-1)^2 ] -> [ (1,2)(3,4)(6,7)(8,9), (2,4,3)(5,6,7,8)(9,10) ]\n",
    "\n",
    "f1 := K2.1;; f2 := K2.2;; f3 := K2.3;;\n",
    "iso := GroupHomomorphismByImages(K2, A4xA6, [f1*f3, f1*(f2^-1*f3^-1)^2 ], [ (1,2)(3,4)(6,7)(8,9), (2,4,3)(5,6,7,8)(9,10) ]);;\n",
    "\n",
    "iso(K2) = A4xA6;"
   ]
  },
  {
   "cell_type": "markdown",
   "id": "d02dc391-8f1c-4f33-992d-474ff6465196",
   "metadata": {},
   "source": [
    "поэтому $\\langle y,z \\rangle \\not \\in \\{SL_2(3) \\}$.\n",
    "\n",
    "***(BD: почему?)***"
   ]
  },
  {
   "cell_type": "markdown",
   "id": "fc112f66-6797-478f-8827-75c2e738fa14",
   "metadata": {},
   "source": [
    "Наконец, $K/\\langle yzyzy=zyzyz \\rangle \\simeq 3 \\times A_6$,"
   ]
  },
  {
   "cell_type": "code",
   "execution_count": null,
   "id": "ccb1bb30-4bb9-44a2-b64c-dcc3877f102c",
   "metadata": {},
   "outputs": [],
   "source": [
    "x := F.1;; y := F.2;; z := F.3;;\n",
    "\n",
    "relsK3 := Concatenation(relsK, ParseRelators([x, y, z], \"yzyzy = zyzyz\"));;\n",
    "K3 := F / relsK3;;"
   ]
  },
  {
   "cell_type": "code",
   "execution_count": null,
   "id": "6568aab6-a62f-4849-a6b6-74b9e1388a0c",
   "metadata": {},
   "outputs": [
    {
     "data": {
      "text/plain": [
       "true"
      ]
     },
     "execution_count": 61,
     "metadata": {
      "text/plain": ""
     },
     "output_type": "execute_result"
    }
   ],
   "source": [
    "A6 := AlternatingGroup(6);;\n",
    "C3 := CyclicGroup(3);;\n",
    "C3xA6 := DirectProduct(C3, A6);;\n",
    "\n",
    "# iso := IsomorphismGroups(K3, C3xA6);\n",
    "# [ y^-2*x^-1*(x^-2*y*z)^6*x*y^2, x^-1*y*z*x^-1 ] -> [ DirectProductElement( [ <identity> of ..., (2,3)(5,6) ] ),   DirectProductElement( [ f1, (1,2)(3,4,5,6) ] ) ]\n",
    "\n",
    "f1 := C3.1;;\n",
    "x := K3.1;; y := K3.2;; z := K3.3;;\n",
    "iso := GroupHomomorphismByImages(K3, C3xA6, [ y^-2*x^-1*(x^-2*y*z)^6*x*y^2, x^-1*y*z*x^-1 ], [ DirectProductElement( [One(C3), (2,3)(5,6) ] ),   DirectProductElement( [ f1, (1,2)(3,4,5,6) ] ) ]);;\n",
    "\n",
    "iso(K3) = C3xA6; "
   ]
  },
  {
   "cell_type": "markdown",
   "id": "c240cfdd-943c-49fc-8cdd-edd093b3fade",
   "metadata": {},
   "source": [
    "при этом $\\langle yK,zK \\rangle \\simeq GL_2(4)$. ***(BD: здесь $K$ уже с учётом нового соотношения, нужно переименовать)***"
   ]
  },
  {
   "cell_type": "code",
   "execution_count": 68,
   "id": "241c8a37-3c84-4dff-ae3d-88602b974244",
   "metadata": {},
   "outputs": [
    {
     "data": {
      "text/plain": [
       "true"
      ]
     },
     "execution_count": 68,
     "metadata": {
      "text/plain": ""
     },
     "output_type": "execute_result"
    }
   ],
   "source": [
    "x := K3.1;; y := K3.2;; z := K3.3;;\n",
    "Gyz := Group(y, z);;\n",
    "GL24 := GeneralLinearGroup(2, 4);;\n",
    "\n",
    "# iso := IsomorphismGroups(Gyz, GL24);\n",
    "# [ y^-1*z^-2*y*z*y^2*z*(z*y)^2*z^2*y, y*z*(z*y)^2*y*z ] -> [ [ [ Z(2^2), Z(2)^0 ], [ Z(2^2), Z(2^2) ] ],   [ [ Z(2^2), 0*Z(2) ], [ 0*Z(2), Z(2)^0 ] ] ]\n",
    "\n",
    "iso := GroupHomomorphismByImages(Gyz, GL24, [ y^-1*z^-2*y*z*y^2*z*(z*y)^2*z^2*y, y*z*(z*y)^2*y*z ], [ [ [ Z(2^2), Z(2)^0 ], [ Z(2^2), Z(2^2) ] ],   [ [ Z(2^2), 0*Z(2) ], [ 0*Z(2), Z(2)^0 ] ] ]);;\n",
    "iso(Gyz) = GL24;"
   ]
  },
  {
   "cell_type": "markdown",
   "id": "3555889e-2a79-45d9-a43f-4a389d064da3",
   "metadata": {},
   "source": [
    "2. Пусть $\\langle x,z \\rangle \\simeq A_5$.\n"
   ]
  },
  {
   "cell_type": "code",
   "execution_count": 31,
   "id": "884d332a-d83f-477f-8a74-5f68c6d67674",
   "metadata": {},
   "outputs": [],
   "source": [
    "A5 := AlternatingGroup(5);;\n",
    "\n",
    "A5_gens := [];;\n",
    "\n",
    "for x in A5 do\n",
    "    if Order(x) <> 3 then continue; fi;\n",
    "\n",
    "    for z in AsList(ConjugacyClass(A5, x)) do\n",
    "        if Group(x, z) = A5 then\n",
    "            Add(A5_gens, [x, z]);;\n",
    "        fi;\n",
    "    od;\n",
    "od;"
   ]
  },
  {
   "cell_type": "code",
   "execution_count": null,
   "id": "88a95867-a7da-44dc-98d3-4ac39dcfe89e",
   "metadata": {},
   "outputs": [],
   "source": [
    "# Print(A5_gens);"
   ]
  },
  {
   "cell_type": "markdown",
   "id": "3ffd20d3-4751-47be-8a37-1c46eb74d5cf",
   "metadata": {},
   "source": [
    "Тогда $\\langle x,x^z \\rangle \\simeq A_4$:"
   ]
  },
  {
   "cell_type": "code",
   "execution_count": null,
   "id": "bad1587d-e260-4607-8e5a-874df5226d4e",
   "metadata": {
    "editable": true,
    "slideshow": {
     "slide_type": ""
    },
    "tags": []
   },
   "outputs": [],
   "source": [
    "LoadPackage(\"sonata\");;\n",
    "\n",
    "for gens in A5_gens do\n",
    "    x := gens[1];; z := gens[2];;\n",
    "    if not IsIsomorphicGroup(Group(x, x^z), AlternatingGroup(4)) then\n",
    "        Print(\"Not A4: <\", x, \" \", x^z, \"> = \", StructureDescription(Group(x, x^z)), \"\\n\"); #вывод пустой\n",
    "    fi;\n",
    "od;"
   ]
  },
  {
   "cell_type": "markdown",
   "id": "b822173f-8e5a-4070-81d2-dc60c50dea09",
   "metadata": {},
   "source": [
    "Тогда $\\langle x,x^z \\rangle \\simeq A_4$ и по доказанному либо $[x^z,y]=1$; либо $\\langle x,x^z,y \\rangle \\simeq A_6$ и $\\langle y,x^z \\rangle \\simeq A_5$. Для $\\langle x,x^{z^{-1}} \\rangle \\simeq A_4$ можно рассуждать аналогично.\n",
    "Пусть снова $K=\\{ x,y,z \\mid x^3,y^3,z^3,[x,y],(x^zx)^2,(xz)^5 \\}$ --- группа, заданная соотношениями из утверждения. \n",
    "Заметим, что $K/\\langle [x^z,y],(yz)^3 \\rangle \\simeq GL_2(4)$ и $K/\\langle [x^z,y],(yz)^4 \\rangle \\simeq 1$.\n",
    "Поэтому, если $[x^z,y]=1$ или $[x^{z^{-1}},y]=1$, то $G \\simeq K/\\langle [x^z,y],yzyzy=zyzyz \\rangle \\simeq A_7$."
   ]
  },
  {
   "cell_type": "markdown",
   "id": "2cc9c3c1-fa96-45a6-bb90-5d9f392cda4a",
   "metadata": {},
   "source": [
    "Пусть далее $x^z,x^{z^{-1}} \\not \\in C_D(y)$. Тогда, как отмечалось выше, $\\langle y,x^z \\rangle \\simeq \\langle y,x^{z^{-1}}\\rangle \\simeq A_5$.\n",
    "Поэтому $G$ является гомоморфным образом группы \\newline\n",
    "$F=K/\\langle (x_1^yx_1)^2,(x_1y)^5,(x_2^yx_2)^2,(x_2y)^5 \\rangle$, где $x_1=x^z, x_2=x^{z^{-1}}$. При этом,\n",
    "$F/\\langle (xz)^3 \\rangle  \\simeq A_6$, $F/\\langle (xz)^4 \\rangle \\simeq V$, $F/\\langle xzxzx=zxzxz \\rangle \\simeq U$."
   ]
  }
 ],
 "metadata": {
  "kernelspec": {
   "display_name": "GAP 4",
   "language": "gap",
   "name": "gap-4"
  },
  "language_info": {
   "codemirror_mode": "gap",
   "file_extension": ".g",
   "mimetype": "text/x-gap",
   "name": "GAP 4",
   "nbconvert_exporter": "",
   "pygments_lexer": "gap",
   "version": "4.13.1"
  }
 },
 "nbformat": 4,
 "nbformat_minor": 5
}
